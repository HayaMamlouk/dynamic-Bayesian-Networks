{
 "cells": [
  {
   "cell_type": "code",
   "execution_count": 1,
   "metadata": {},
   "outputs": [],
   "source": [
    "import pyAgrum as gum\n",
    "import pyAgrum.lib.notebook as gnb\n",
    "import pyAgrum.lib.dynamicBN as gdyn                                                                "
   ]
  },
  {
   "cell_type": "code",
   "execution_count": 2,
   "metadata": {},
   "outputs": [],
   "source": [
    "twodbn=gum.BayesNet()\n",
    "a0,b0,c0,at,bt,ct=[twodbn.add(gum.LabelizedVariable(s,s,6))\n",
    "                  for s in [\"a0\",\"b0\",\"c0\",\"at\",\"bt\",\"ct\"]]\n",
    "d0,dt=[twodbn.add(gum.LabelizedVariable(s,s,3))\n",
    "      for s in [\"d0\",\"dt\"]]\n",
    "\n",
    "twodbn.addArc(a0,b0)\n",
    "\n",
    "twodbn.addArc(c0,d0)\n",
    "twodbn.addArc(c0,at)\n",
    "\n",
    "twodbn.addArc(a0,at)\n",
    "twodbn.addArc(a0,bt)\n",
    "twodbn.addArc(a0,dt)\n",
    "twodbn.addArc(b0,bt)\n",
    "twodbn.addArc(c0,ct)\n",
    "twodbn.addArc(d0,ct)\n",
    "twodbn.addArc(d0,dt)\n",
    "twodbn.addArc(at,ct)\n",
    "twodbn.generateCPTs()\n",
    "\n",
    "z = gum.LabelizedVariable(\"zdw\",\"z\",6)\n",
    "x = gum.LabelizedVariable(\"xdw\",\"x\",6)\n",
    "z.name()\n",
    "type(z)\n",
    "a = twodbn.add(z)\n",
    "b = twodbn.add(x)\n",
    "# twodbn.removeArc(a,b)\n",
    "twodbn.eraseArc(a0,dt)\n",
    "twodbn.addArc(a,b)"
   ]
  },
  {
   "cell_type": "code",
   "execution_count": 3,
   "metadata": {},
   "outputs": [],
   "source": [
    "from source.dBN import dBN\n"
   ]
  },
  {
   "cell_type": "code",
   "execution_count": 4,
   "metadata": {},
   "outputs": [
    {
     "name": "stdout",
     "output_type": "stream",
     "text": [
      "Created a dBN with 5 time slices.\n",
      "Added variable 'A:Labelized({0|1})' across 5 time slices.\n",
      "Added variable 'B:Labelized({0|1})' across 5 time slices.\n",
      "Added arc (('A', 1), ('B', 1)) to the DBN.\n",
      "\n",
      "['A', 'B']\n",
      "Added arc (('A', 1), ('B', 2)) to the DBN.\n",
      "['(A#1, B#1)', '(A#1, B#2)']\n",
      "Deleted arc (('A', 1), ('B', 2)) from the DBN.\n",
      "['(A#1, B#1)']\n",
      "\n",
      "Deleted variable 'A' and its associated arcs from the DBN.\n",
      "['B']\n",
      "['B#0', 'B#1', 'B#2', 'B#3', 'B#4']\n"
     ]
    }
   ],
   "source": [
    "dbn = dBN()\n",
    "\n",
    "a = gum.LabelizedVariable(\"A\",\"A\",2)\n",
    "b = gum.LabelizedVariable(\"B\",\"B\",2)\n",
    "\n",
    "dbn.createDBN(5)\n",
    "dbn.addVar(a)\n",
    "dbn.addVar(b)\n",
    "\n",
    "dbn.addArc(((\"A\", 1), (\"B\", 1)))\n",
    "\n",
    "print()\n",
    "print(dbn.getVariables())\n",
    "\n",
    "dbn.addArc(((\"A\", 1), (\"B\", 2)))\n",
    "print(dbn.getArcs())\n",
    "\n",
    "dbn.deleteArc(((\"A\", 1), (\"B\", 2)))\n",
    "print(dbn.getArcs())\n",
    "print()\n",
    "\n",
    "dbn.deleteVar(\"A\")\n",
    "print(dbn.getVariables())\n",
    "print(dbn.getAllVariables())"
   ]
  },
  {
   "cell_type": "code",
   "execution_count": null,
   "metadata": {},
   "outputs": [],
   "source": []
  }
 ],
 "metadata": {
  "kernelspec": {
   "display_name": "Python 3",
   "language": "python",
   "name": "python3"
  },
  "language_info": {
   "codemirror_mode": {
    "name": "ipython",
    "version": 3
   },
   "file_extension": ".py",
   "mimetype": "text/x-python",
   "name": "python",
   "nbconvert_exporter": "python",
   "pygments_lexer": "ipython3",
   "version": "3.12.2"
  }
 },
 "nbformat": 4,
 "nbformat_minor": 2
}
